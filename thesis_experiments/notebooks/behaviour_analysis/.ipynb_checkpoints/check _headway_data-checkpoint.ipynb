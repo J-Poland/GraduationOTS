{
 "cells": [
  {
   "cell_type": "code",
   "execution_count": 1,
   "id": "4d27f185-f458-4a72-9914-7b083c72ed50",
   "metadata": {},
   "outputs": [],
   "source": [
    "import os\n",
    "import pandas as pd\n",
    "import numpy as np\n",
    "import matplotlib.pyplot as plt\n",
    "from scipy.stats import mannwhitneyu\n",
    "from IPython.display import display\n",
    "import zipfile\n",
    "from collections import defaultdict\n",
    "\n",
    "import warnings\n",
    "warnings.simplefilter(action='ignore', category=FutureWarning)\n",
    "\n",
    "pd.set_option('display.max_rows', None)"
   ]
  },
  {
   "cell_type": "code",
   "execution_count": 2,
   "id": "94be9fc3-c81c-4d96-8650-1f3ecc1dc766",
   "metadata": {},
   "outputs": [],
   "source": [
    "# simulation output folder\n",
    "experiment_name = 'test_policy_run_1'\n",
    "\n",
    "# load Java simulation data\n",
    "# experiment_folder = fr'F:\\jesse_sim_results\\{experiment_name}'\n",
    "experiment_folder = fr'..\\data\\{experiment_name}'\n",
    "\n",
    "# available files\n",
    "input_values = 'inputValues.csv'\n",
    "intermediate_output = 'intermediateOutputData.csv'\n",
    "single_output = 'singleOutputData.csv'\n",
    "sequence_output = 'sequenceOutputData.csv'\n",
    "lane_change_output = 'laneChangeOutputData.csv'\n",
    "collision_output = 'collisionOutputData.csv'"
   ]
  },
  {
   "cell_type": "code",
   "execution_count": 3,
   "id": "de4005af-e0b5-419b-8984-1247d6174b71",
   "metadata": {},
   "outputs": [],
   "source": [
    "# function to get a list of all file/folder names within a folder\n",
    "def get_file_names(path):\n",
    "    return os.listdir(path)\n",
    "\n",
    "# load available seed folders\n",
    "seed_folders = get_file_names(experiment_folder)"
   ]
  },
  {
   "cell_type": "code",
   "execution_count": 4,
   "id": "3f25a0a1-2c91-4b54-b511-f9df81e2b002",
   "metadata": {},
   "outputs": [],
   "source": [
    "# function to retrieve any data within the project folder as dataframe\n",
    "def load_scenario_dataframe(scenario, columns_of_interest, folder, file, input_file):\n",
    "    # create empty DataFrame\n",
    "    df = pd.DataFrame()\n",
    "    \n",
    "    # loop through all seed folders from this experiment\n",
    "    for seed_name in get_file_names(folder):\n",
    "        #############\n",
    "        # stop at seed 2\n",
    "        if seed_name == 'seed_2':\n",
    "            break\n",
    "        ###############\n",
    "        \n",
    "        # get all runs within this experiment\n",
    "        run_folders = get_file_names(os.path.join(folder, seed_name))\n",
    "\n",
    "        # go through all runs\n",
    "        for run_folder in run_folders:\n",
    "            run_number = int(run_folder.split('_')[1])\n",
    "            data_folder = os.path.join(folder, seed_name, run_folder)\n",
    "\n",
    "            # initialise scenario boolean\n",
    "            row_matches_scenario = False\n",
    "\n",
    "            # open zip file (remove .csv form file name)\n",
    "            # check whether input file matches this scenario\n",
    "            # open input zip file\n",
    "            with zipfile.ZipFile(os.path.join(data_folder, fr'{input_file[:-4]}.zip'), 'r') as zip_ref:\n",
    "                # read input csv\n",
    "                with zip_ref.open(input_file) as input_data_file:\n",
    "                    df_input = pd.read_csv(input_data_file)\n",
    "                    row_matches_scenario = all(df_input.iloc[0][key] == value for key, value in scenario.items())\n",
    "                    \n",
    "            # get data if input values match this scenario\n",
    "            if row_matches_scenario:\n",
    "                with zipfile.ZipFile(os.path.join(data_folder, fr'{file[:-4]}.zip'), 'r') as zip_ref:\n",
    "                    # read data csv\n",
    "                    with zip_ref.open(file) as data_file:\n",
    "                        df_run = pd.read_csv(data_file)\n",
    "                        df_interest = df_run[columns_of_interest].copy()\n",
    "                        df_interest['run'] = run_number\n",
    "\n",
    "                        # broadcast input data to all rows in df_interest\n",
    "                        for col in df_input.columns:\n",
    "                            df_interest[col] = df_input[col].iloc[0]\n",
    "                    \n",
    "                        # add this data to the main DataFrame\n",
    "                        df = pd.concat([df, df_interest])\n",
    "    \n",
    "    # return resulting DataFrame\n",
    "    df.reset_index(drop=True, inplace=True)\n",
    "    return df\n",
    "\n",
    "\n",
    "# function to retrieve any data within the project folder as dataframe\n",
    "def load_scenario_collision_dataframe(scenario, folder):\n",
    "    # collision file\n",
    "    file = collision_output\n",
    "    input_file = input_values\n",
    "    \n",
    "    # create empty DataFrame\n",
    "    df = pd.DataFrame()\n",
    "    \n",
    "    # loop through all seed folders from this experiment\n",
    "    for seed_name in get_file_names(folder):\n",
    "        \n",
    "        # get all runs within this experiment\n",
    "        run_folders = get_file_names(os.path.join(folder, seed_name))\n",
    "\n",
    "        # go through all runs\n",
    "        for run_folder in run_folders:\n",
    "            run_number = int(run_folder.split('_')[1])\n",
    "            data_folder = os.path.join(folder, seed_name, run_folder)\n",
    "\n",
    "            # initialise scenario boolean\n",
    "            row_matches_scenario = False\n",
    "\n",
    "            # open zip file (remove .csv form file name)\n",
    "            # check whether input file matches this scenario\n",
    "            # open input zip file\n",
    "            with zipfile.ZipFile(os.path.join(data_folder, fr'{input_file[:-4]}.zip'), 'r') as zip_ref:\n",
    "                # read input csv\n",
    "                with zip_ref.open(input_file) as input_data_file:\n",
    "                    df_input = pd.read_csv(input_data_file)\n",
    "                    row_matches_scenario = all(df_input.iloc[0][key] == value for key, value in scenario.items())\n",
    "                    \n",
    "            # get data if input values match this scenario\n",
    "            if row_matches_scenario:\n",
    "                with zipfile.ZipFile(os.path.join(data_folder, fr'{file[:-4]}.zip'), 'r') as zip_ref:\n",
    "                    # read data csv\n",
    "                    with zip_ref.open(file) as data_file:\n",
    "                        # try to read collision data (will fail when empty)\n",
    "                        try:\n",
    "                            df_collisions = pd.read_csv(data_file)\n",
    "                        # do not process empty collision dataframes\n",
    "                        except:\n",
    "                            continue\n",
    "                        # do process collision  dataframe if it has data\n",
    "                        print(f'Collisions found in {seed_name}-{run_number}')\n",
    "                        df_collisions['run'] = run_number\n",
    "\n",
    "                        # broadcast input data to all rows of collision dataframe\n",
    "                        for col in df_input.columns:\n",
    "                            df_collisions[col] = df_input[col].iloc[0]\n",
    "                    \n",
    "                        # add this data to the main DataFrame\n",
    "                        df = pd.concat([df, df_collisions])\n",
    "    \n",
    "    # return resulting DataFrame\n",
    "    df.reset_index(drop=True, inplace=True)\n",
    "    return df"
   ]
  },
  {
   "cell_type": "code",
   "execution_count": 5,
   "id": "283619b4-b489-4019-8228-51083f7669c4",
   "metadata": {},
   "outputs": [],
   "source": [
    "# define scenario 0\n",
    "scenario_0 = {\n",
    "    'level0_fraction': 1.0,\n",
    "    'level1_fraction': 0.0,\n",
    "    'level2_fraction': 0.0,\n",
    "    'level3_fraction': 0.0,\n",
    "    'in_vehicle_distraction': True,\n",
    "    'road_side_distraction': False\n",
    "}"
   ]
  },
  {
   "cell_type": "code",
   "execution_count": null,
   "id": "25eda67d-c226-446d-ade6-f5709f695953",
   "metadata": {},
   "outputs": [],
   "source": [
    "headway_variables = ['time', 'gtu_id', 'gtu_type', 'x_position', 'headway_time', 'headway_time_old', 'headway_distance', 'leader_gtu_id', 'leader_gtu_type', 'lane', 'link']\n",
    "df_gtu_headway_0 = load_scenario_dataframe(scenario_0, headway_variables, experiment_folder, sequence_output, input_values)"
   ]
  },
  {
   "cell_type": "code",
   "execution_count": null,
   "id": "6450d0b0-cbe6-45f6-969e-4d40c51367ce",
   "metadata": {},
   "outputs": [],
   "source": [
    "def show_headway_time_boxplot(df_list, labels, column):\n",
    "    # get headway time data for each vehicle type\n",
    "    headway_data = [df[column][df[column] < 4].dropna().tolist() for df in df_list]\n",
    "\n",
    "    # create plot\n",
    "    plt.figure(figsize=(10, 6))\n",
    "    box = plt.boxplot(headway_data, labels=labels, showfliers=True, showmeans=True, patch_artist=True)\n",
    "\n",
    "    # set colors\n",
    "    colors = ['lightblue', 'lightgreen', 'lightcoral', 'lightgray', 'lightyellow']\n",
    "    for patch, color in zip(box['boxes'], colors):\n",
    "        patch.set(facecolor=color)\n",
    "\n",
    "    # show plot\n",
    "    plt.title(\"Boxplot for headway time per automation level\")\n",
    "    plt.xlabel(\"Vehicle Type\")\n",
    "    plt.ylabel(\"Headway time (s)\")\n",
    "    plt.xticks(rotation=45)\n",
    "    plt.show()"
   ]
  },
  {
   "cell_type": "code",
   "execution_count": null,
   "id": "1da0fd33-e467-447b-8080-ced984041a5b",
   "metadata": {},
   "outputs": [],
   "source": [
    "show_headway_time_boxplot([df_gtu_headway_0], ['Scenario 0'], 'headway_time')"
   ]
  },
  {
   "cell_type": "code",
   "execution_count": null,
   "id": "92d48a09-fade-4fb5-b26e-736b7c55ad47",
   "metadata": {},
   "outputs": [],
   "source": [
    "show_headway_time_boxplot([df_gtu_headway_0], ['Scenario 0'], 'headway_time_old')"
   ]
  },
  {
   "cell_type": "markdown",
   "id": "7b381101-742f-4843-b08c-7c81ddd1b31b",
   "metadata": {},
   "source": [
    "Are there low or negative headway times (new) after collisions are removed?"
   ]
  },
  {
   "cell_type": "code",
   "execution_count": null,
   "id": "d4190f78-6f2e-459c-9a10-c5fe42ab50cc",
   "metadata": {},
   "outputs": [],
   "source": [
    "print('Low headway time:', len(df_gtu_headway_0[(df_gtu_headway_0['headway_time'] > 0) & (df_gtu_headway_0['headway_time'] < 0.2)]))\n",
    "print('Negative headway time:', len(df_gtu_headway_0[df_gtu_headway_0['headway_time'] < 0]))"
   ]
  },
  {
   "cell_type": "code",
   "execution_count": null,
   "id": "1cffd898-4eab-425e-acc5-5793282a2d86",
   "metadata": {},
   "outputs": [],
   "source": [
    "df_collisions_0 = load_scenario_collision_dataframe(scenario_0, experiment_folder)"
   ]
  },
  {
   "cell_type": "code",
   "execution_count": null,
   "id": "5619c070-f834-401a-821b-4427ccbb4e4a",
   "metadata": {},
   "outputs": [],
   "source": [
    "def remove_collided_gtus(df, df_coll):\n",
    "    # Create collision dictionary\n",
    "    collision_dict = {}\n",
    "    \n",
    "    for _, row in df_coll.iterrows():\n",
    "        # Use (seed, run) tuple as the dictionary key\n",
    "        seed_run_key = (row['seed'], row['run'])\n",
    "        \n",
    "        # Initialize set for seed-run combination if not already present\n",
    "        if seed_run_key not in collision_dict:\n",
    "            collision_dict[seed_run_key] = set()\n",
    "        \n",
    "        # Add GTUs to the set\n",
    "        if pd.notna(row['id']):\n",
    "            collision_dict[seed_run_key].add(row['id'])\n",
    "        if pd.notna(row['leader_id']):\n",
    "            collision_dict[seed_run_key].add(row['leader_id'])\n",
    "\n",
    "    # Function to determine whether GTU was involved in a collision\n",
    "    def is_involved_in_collision(row):\n",
    "        # Use (seed, run) tuple as key\n",
    "        seed_run_key = (row['seed'], row['run'])\n",
    "        return seed_run_key in collision_dict and row['gtu_id'] in collision_dict[seed_run_key]\n",
    "    \n",
    "    # Filter dataframe for collisions\n",
    "    df_filtered = df[~df.apply(is_involved_in_collision, axis=1)]\n",
    "    \n",
    "    # Return new filtered dataframe\n",
    "    return df_filtered"
   ]
  },
  {
   "cell_type": "code",
   "execution_count": null,
   "id": "647c8c3a-5d1e-4a0d-a1b4-6f8d50889369",
   "metadata": {},
   "outputs": [],
   "source": [
    "df_gtu_headway_0_filtered = remove_collided_gtus(df_gtu_headway_0, df_collisions_0)"
   ]
  },
  {
   "cell_type": "code",
   "execution_count": null,
   "id": "5c80165d-f80c-49ce-afa5-aa6c7578471c",
   "metadata": {},
   "outputs": [],
   "source": [
    "print('Low headway time:', len(df_gtu_headway_0_filtered[(df_gtu_headway_0_filtered['headway_time'] > 0) & (df_gtu_headway_0_filtered['headway_time'] < 0.2)]))\n",
    "print('Negative headway time:', len(df_gtu_headway_0_filtered[df_gtu_headway_0_filtered['headway_time'] < 0]))"
   ]
  },
  {
   "cell_type": "markdown",
   "id": "4af69688-373f-4d80-aa3e-60afd2f23b28",
   "metadata": {},
   "source": [
    "Can we recreate headway_distance with the new headway_time and speed?"
   ]
  },
  {
   "cell_type": "code",
   "execution_count": null,
   "id": "ceae5c28-ea9b-4457-ad9e-d09c4964e728",
   "metadata": {},
   "outputs": [],
   "source": [
    "df_gtu_headway_0[['seed', 'run', 'time', 'gtu_id', 'gtu_type', 'speed', 'headway_time_old', 'headway_distance']].head(10)"
   ]
  },
  {
   "cell_type": "code",
   "execution_count": null,
   "id": "37bcfd17-ab97-4eeb-bec7-33cd9b4536b3",
   "metadata": {},
   "outputs": [],
   "source": [
    "df_new = df_gtu_headway_0.copy()\n",
    "df_new['headway_distance_new'] = df_new['speed'] * df_new['headway_time']\n",
    "df_gtu_headway_0[['seed', 'run', 'time', 'gtu_id', 'gtu_type', 'speed', 'headway_time', 'headway_distance_new']].head(10)"
   ]
  }
 ],
 "metadata": {
  "kernelspec": {
   "display_name": "Python 3 (ipykernel)",
   "language": "python",
   "name": "python3"
  },
  "language_info": {
   "codemirror_mode": {
    "name": "ipython",
    "version": 3
   },
   "file_extension": ".py",
   "mimetype": "text/x-python",
   "name": "python",
   "nbconvert_exporter": "python",
   "pygments_lexer": "ipython3",
   "version": "3.11.4"
  }
 },
 "nbformat": 4,
 "nbformat_minor": 5
}
