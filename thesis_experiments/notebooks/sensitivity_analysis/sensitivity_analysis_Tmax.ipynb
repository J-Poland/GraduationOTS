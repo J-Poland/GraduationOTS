{
 "cells": [
  {
   "cell_type": "markdown",
   "id": "be9c402f-cf2d-4f7a-b15b-93edd47e84ea",
   "metadata": {},
   "source": [
    "# Transitioning to autonomous driving: <br>Mixed vehicle autonomy levels on freeways\n",
    "### Notebook to analyse simulation warm-up time.\n",
    "\n",
    "Jesse Poland<br>\n",
    "TU Delft<br>\n",
    "Date: 02-10-2024<br>"
   ]
  },
  {
   "cell_type": "markdown",
   "id": "b2b07df7-38c0-432c-91bc-a30a05241854",
   "metadata": {},
   "source": [
    "### 0. Python packages and loading data files\n",
    "\n",
    "First, Python packages are imported to provide specific functionalities within the notebook. Then, the file paths are set to retrieve stored simulation data for all experiment runs and seeds. The simulation data is loaded into Pandas DataFrames, making the data ready for analysis."
   ]
  },
  {
   "cell_type": "code",
   "execution_count": 1,
   "id": "da79dd54-3df8-4b6b-82f1-1013d850a120",
   "metadata": {},
   "outputs": [],
   "source": [
    "import os\n",
    "import pandas as pd\n",
    "import numpy as np\n",
    "import matplotlib.pyplot as plt\n",
    "from scipy.stats import mannwhitneyu\n",
    "from IPython.display import display\n",
    "import zipfile\n",
    "\n",
    "import warnings\n",
    "warnings.simplefilter(action='ignore', category=FutureWarning)\n",
    "\n",
    "pd.set_option('display.max_rows', None)"
   ]
  },
  {
   "cell_type": "code",
   "execution_count": 2,
   "id": "e9daaa5c-f37f-4dd1-ad13-f15e2121f9f8",
   "metadata": {},
   "outputs": [],
   "source": [
    "# simulation output folder\n",
    "# experiment_name = 'level0_Tmax_sensitivity_run_1'\n",
    "experiment_name = 'explore_demand_test'\n",
    "\n",
    "# load Java simulation data\n",
    "# experiment_folder = fr'F:\\jesse_sim_results\\{experiment_name}'\n",
    "experiment_folder = fr'..\\data\\{experiment_name}'\n",
    "\n",
    "# available files\n",
    "input_values = 'inputValues.csv'\n",
    "intermediate_output = 'intermediateOutputData.csv'\n",
    "single_output = 'singleOutputData.csv'\n",
    "sequence_output = 'sequenceOutputData.csv'\n",
    "lane_change_output = 'laneChangeOutputData.csv'\n",
    "collision_output = 'collisionOutputData.csv'"
   ]
  },
  {
   "cell_type": "code",
   "execution_count": 3,
   "id": "c4a6c7db-e3ab-4ab2-92d0-3cc16f51deff",
   "metadata": {},
   "outputs": [],
   "source": [
    "# function to get a list of all file/folder names within a folder\n",
    "def get_file_names(path):\n",
    "    return os.listdir(path)\n",
    "\n",
    "# load available seed folders\n",
    "seed_folders = get_file_names(experiment_folder)"
   ]
  },
  {
   "cell_type": "code",
   "execution_count": 4,
   "id": "c884a9ae-5f32-4a23-8ca0-96b2598f3348",
   "metadata": {},
   "outputs": [],
   "source": [
    "# function to retrieve any data within the project folder as dataframe\n",
    "def load_dataframe(columns_of_interest, folder, file, input_file=None):\n",
    "    # create empty DataFrame\n",
    "    df = pd.DataFrame()\n",
    "    \n",
    "    # loop through all seed folders from this experiment\n",
    "    for seed_name in get_file_names(folder):\n",
    "        # get all runs within this experiment\n",
    "        run_folders = get_file_names(os.path.join(folder, seed_name))\n",
    "\n",
    "        # go through all runs\n",
    "        for run_folder in run_folders:\n",
    "            run_number = int(run_folder.split('_')[1])\n",
    "            data_folder = os.path.join(folder, seed_name, run_folder)\n",
    "\n",
    "            # open zip file (remove .csv form file name)\n",
    "            try:\n",
    "                with zipfile.ZipFile(os.path.join(data_folder, fr'{file[:-4]}.zip'), 'r') as zip_ref:\n",
    "                    # read sequence csv\n",
    "                    with zip_ref.open(file) as data_file:\n",
    "                        df_run = pd.read_csv(data_file)\n",
    "                        df_interest = df_run[columns_of_interest].copy()\n",
    "                        df_interest['run'] = run_number\n",
    "                # add input values to the dataframe if the input file is specified\n",
    "                if input_file is not None:\n",
    "                    # open input zip file\n",
    "                    with zipfile.ZipFile(os.path.join(data_folder, fr'{input_file[:-4]}.zip'), 'r') as zip_ref:\n",
    "                        # read input csv\n",
    "                        with zip_ref.open(input_file) as input_data_file:\n",
    "                            df_input = pd.read_csv(input_data_file)\n",
    "                    # broadcast input data to all rows in df_interest\n",
    "                    for col in df_input.columns:\n",
    "                        df_interest[col] = df_input[col].iloc[0]\n",
    "    \n",
    "                # add this data to the main DataFrame\n",
    "                df = pd.concat([df, df_interest])\n",
    "            except:\n",
    "                print(f'An error occured when trying to read data from: {data_folder}. This folder may contain a BadZipFile or is empty.')\n",
    "    \n",
    "    # return resulting DataFrame\n",
    "    df.reset_index(drop=True, inplace=True)\n",
    "    return df\n",
    "    "
   ]
  },
  {
   "cell_type": "code",
   "execution_count": 5,
   "id": "b5f3fe8f-3ae4-46d4-a30c-145f7343f51e",
   "metadata": {},
   "outputs": [],
   "source": [
    "# get GTU data\n",
    "variables = ['time', 'gtu_id', 'headway_time', 'desired_headway_time']\n",
    "df_gtu = load_dataframe(variables, experiment_folder, sequence_output, input_values)\n",
    "# only include sensitivity analysis parameter from input data\n",
    "df_gtu = df_gtu[variables + ['seed', 'run', 'sensitivity_analysis_value']]\n",
    "# rename column of the sensitivity analysis parameter\n",
    "df_gtu.rename(columns = {'sensitivity_analysis_value':'t_max'}, inplace = True)"
   ]
  },
  {
   "cell_type": "code",
   "execution_count": 6,
   "id": "84892ab2-2da7-4d5d-a2fc-d41e53a21adf",
   "metadata": {},
   "outputs": [
    {
     "name": "stdout",
     "output_type": "stream",
     "text": [
      "118\n"
     ]
    }
   ],
   "source": [
    "# remove collisions (these are not \"unsafe\" but rather an error in the simulation because vehicles can change lanes through a hack)\n",
    "# 60 runs can cause at least 60 collisions, when it is more than 4 times the number of runs maybe other collisions do also occur\n",
    "print(len(df_gtu[df_gtu['headway_time'] <= 0]))"
   ]
  },
  {
   "cell_type": "code",
   "execution_count": 7,
   "id": "b1f1a9b0-40f0-4bd1-85ab-aa92105d7ad6",
   "metadata": {},
   "outputs": [
    {
     "name": "stdout",
     "output_type": "stream",
     "text": [
      "An error occured when trying to read data from: ..\\data\\explore_demand_test\\seed_0\\run_1. This folder may contain a BadZipFile or is empty.\n",
      "An error occured when trying to read data from: ..\\data\\explore_demand_test\\seed_0\\run_10. This folder may contain a BadZipFile or is empty.\n",
      "An error occured when trying to read data from: ..\\data\\explore_demand_test\\seed_0\\run_13. This folder may contain a BadZipFile or is empty.\n",
      "An error occured when trying to read data from: ..\\data\\explore_demand_test\\seed_0\\run_17. This folder may contain a BadZipFile or is empty.\n",
      "An error occured when trying to read data from: ..\\data\\explore_demand_test\\seed_0\\run_19. This folder may contain a BadZipFile or is empty.\n",
      "An error occured when trying to read data from: ..\\data\\explore_demand_test\\seed_0\\run_2. This folder may contain a BadZipFile or is empty.\n",
      "An error occured when trying to read data from: ..\\data\\explore_demand_test\\seed_0\\run_21. This folder may contain a BadZipFile or is empty.\n",
      "An error occured when trying to read data from: ..\\data\\explore_demand_test\\seed_0\\run_23. This folder may contain a BadZipFile or is empty.\n",
      "An error occured when trying to read data from: ..\\data\\explore_demand_test\\seed_0\\run_24. This folder may contain a BadZipFile or is empty.\n",
      "An error occured when trying to read data from: ..\\data\\explore_demand_test\\seed_0\\run_25. This folder may contain a BadZipFile or is empty.\n",
      "An error occured when trying to read data from: ..\\data\\explore_demand_test\\seed_0\\run_27. This folder may contain a BadZipFile or is empty.\n",
      "An error occured when trying to read data from: ..\\data\\explore_demand_test\\seed_0\\run_28. This folder may contain a BadZipFile or is empty.\n",
      "An error occured when trying to read data from: ..\\data\\explore_demand_test\\seed_0\\run_29. This folder may contain a BadZipFile or is empty.\n",
      "An error occured when trying to read data from: ..\\data\\explore_demand_test\\seed_0\\run_3. This folder may contain a BadZipFile or is empty.\n",
      "An error occured when trying to read data from: ..\\data\\explore_demand_test\\seed_0\\run_30. This folder may contain a BadZipFile or is empty.\n",
      "An error occured when trying to read data from: ..\\data\\explore_demand_test\\seed_0\\run_32. This folder may contain a BadZipFile or is empty.\n",
      "An error occured when trying to read data from: ..\\data\\explore_demand_test\\seed_0\\run_34. This folder may contain a BadZipFile or is empty.\n",
      "An error occured when trying to read data from: ..\\data\\explore_demand_test\\seed_0\\run_36. This folder may contain a BadZipFile or is empty.\n",
      "An error occured when trying to read data from: ..\\data\\explore_demand_test\\seed_0\\run_38. This folder may contain a BadZipFile or is empty.\n",
      "An error occured when trying to read data from: ..\\data\\explore_demand_test\\seed_0\\run_39. This folder may contain a BadZipFile or is empty.\n",
      "An error occured when trying to read data from: ..\\data\\explore_demand_test\\seed_0\\run_4. This folder may contain a BadZipFile or is empty.\n",
      "An error occured when trying to read data from: ..\\data\\explore_demand_test\\seed_0\\run_5. This folder may contain a BadZipFile or is empty.\n",
      "An error occured when trying to read data from: ..\\data\\explore_demand_test\\seed_0\\run_7. This folder may contain a BadZipFile or is empty.\n",
      "An error occured when trying to read data from: ..\\data\\explore_demand_test\\seed_0\\run_8. This folder may contain a BadZipFile or is empty.\n",
      "An error occured when trying to read data from: ..\\data\\explore_demand_test\\seed_0\\run_9. This folder may contain a BadZipFile or is empty.\n",
      "An error occured when trying to read data from: ..\\data\\explore_demand_test\\seed_1\\run_1. This folder may contain a BadZipFile or is empty.\n",
      "An error occured when trying to read data from: ..\\data\\explore_demand_test\\seed_1\\run_10. This folder may contain a BadZipFile or is empty.\n",
      "An error occured when trying to read data from: ..\\data\\explore_demand_test\\seed_1\\run_13. This folder may contain a BadZipFile or is empty.\n",
      "An error occured when trying to read data from: ..\\data\\explore_demand_test\\seed_1\\run_17. This folder may contain a BadZipFile or is empty.\n",
      "An error occured when trying to read data from: ..\\data\\explore_demand_test\\seed_1\\run_2. This folder may contain a BadZipFile or is empty.\n",
      "An error occured when trying to read data from: ..\\data\\explore_demand_test\\seed_1\\run_20. This folder may contain a BadZipFile or is empty.\n",
      "An error occured when trying to read data from: ..\\data\\explore_demand_test\\seed_1\\run_21. This folder may contain a BadZipFile or is empty.\n",
      "An error occured when trying to read data from: ..\\data\\explore_demand_test\\seed_1\\run_23. This folder may contain a BadZipFile or is empty.\n",
      "An error occured when trying to read data from: ..\\data\\explore_demand_test\\seed_1\\run_24. This folder may contain a BadZipFile or is empty.\n",
      "An error occured when trying to read data from: ..\\data\\explore_demand_test\\seed_1\\run_25. This folder may contain a BadZipFile or is empty.\n",
      "An error occured when trying to read data from: ..\\data\\explore_demand_test\\seed_1\\run_27. This folder may contain a BadZipFile or is empty.\n",
      "An error occured when trying to read data from: ..\\data\\explore_demand_test\\seed_1\\run_28. This folder may contain a BadZipFile or is empty.\n",
      "An error occured when trying to read data from: ..\\data\\explore_demand_test\\seed_1\\run_29. This folder may contain a BadZipFile or is empty.\n",
      "An error occured when trying to read data from: ..\\data\\explore_demand_test\\seed_1\\run_3. This folder may contain a BadZipFile or is empty.\n",
      "An error occured when trying to read data from: ..\\data\\explore_demand_test\\seed_1\\run_30. This folder may contain a BadZipFile or is empty.\n",
      "An error occured when trying to read data from: ..\\data\\explore_demand_test\\seed_1\\run_32. This folder may contain a BadZipFile or is empty.\n",
      "An error occured when trying to read data from: ..\\data\\explore_demand_test\\seed_1\\run_34. This folder may contain a BadZipFile or is empty.\n",
      "An error occured when trying to read data from: ..\\data\\explore_demand_test\\seed_1\\run_36. This folder may contain a BadZipFile or is empty.\n",
      "An error occured when trying to read data from: ..\\data\\explore_demand_test\\seed_1\\run_38. This folder may contain a BadZipFile or is empty.\n",
      "An error occured when trying to read data from: ..\\data\\explore_demand_test\\seed_1\\run_39. This folder may contain a BadZipFile or is empty.\n",
      "An error occured when trying to read data from: ..\\data\\explore_demand_test\\seed_1\\run_4. This folder may contain a BadZipFile or is empty.\n",
      "An error occured when trying to read data from: ..\\data\\explore_demand_test\\seed_1\\run_5. This folder may contain a BadZipFile or is empty.\n",
      "An error occured when trying to read data from: ..\\data\\explore_demand_test\\seed_1\\run_7. This folder may contain a BadZipFile or is empty.\n"
     ]
    }
   ],
   "source": [
    "# get collision output\n",
    "variables = ['time', 'id', 'leader_id']\n",
    "df_collisions = load_dataframe(variables, experiment_folder, collision_output, input_values)\n",
    "\n",
    "# only include seed and run info from input data\n",
    "df_collisions = df_collisions[['seed', 'run'] + variables]"
   ]
  },
  {
   "cell_type": "code",
   "execution_count": 8,
   "id": "4d6e2315-645d-4bfd-b8ac-03ea08bd0d5c",
   "metadata": {},
   "outputs": [
    {
     "name": "stdout",
     "output_type": "stream",
     "text": [
      "1\n"
     ]
    }
   ],
   "source": [
    "def remove_collided_gtus(df, df_coll):\n",
    "    # create collision dictionary\n",
    "    collision_dict = {}\n",
    "    for _, row in df_coll.iterrows():\n",
    "        seed_run_key = str(row['seed']) + '_' + str(row['run'])\n",
    "        # initialise set for seed run combination\n",
    "        if seed_run_key not in collision_dict:\n",
    "            collision_dict[seed_run_key] = set()\n",
    "        # add GTUs to the set\n",
    "        collision_dict[seed_run_key].add(row['id'])\n",
    "        collision_dict[seed_run_key].add(row['leader_id'])\n",
    "\n",
    "    # function to determine whether GTU was involved in a collision\n",
    "    def is_involved_in_collision(row):\n",
    "        seed_run_key = str(row['seed']) + '_' + str(row['run'])\n",
    "        return seed_run_key in collision_dict and row['gtu_id'] in collision_dict[seed_run_key]\n",
    "\n",
    "    # filter dataframe for collisions\n",
    "    df_filtered = df[~df.apply(is_involved_in_collision, axis=1)]\n",
    "\n",
    "    # return new dataframe\n",
    "    return df_filtered\n",
    "\n",
    "df_gtu_new = remove_collided_gtus(df_gtu, df_collisions)\n",
    "print(len(df_gtu_new[df_gtu_new['headway_time'] < 0]))"
   ]
  },
  {
   "cell_type": "code",
   "execution_count": 9,
   "id": "769424e2-b736-4a34-b995-5a8c55760a3e",
   "metadata": {},
   "outputs": [
    {
     "name": "stdout",
     "output_type": "stream",
     "text": [
      "0.6644982575618121% of data points cleaned because of collisions.\n",
      "Remaining data points with headway time under or equal to 0: 1\n"
     ]
    }
   ],
   "source": [
    "# calculate how many data points are removed because of collisions\n",
    "print(f'{(len(df_gtu) - len(df_gtu_new)) / len(df_gtu) * 100}% of data points cleaned because of collisions.')\n",
    "print(f'Remaining data points with headway time under or equal to 0: {len(df_gtu_new[df_gtu_new[\"headway_time\"] <= 0])}')"
   ]
  },
  {
   "cell_type": "code",
   "execution_count": 10,
   "id": "5fdbd1af-1d65-428f-8089-ab601ec1ad4a",
   "metadata": {},
   "outputs": [],
   "source": [
    "# remove these collisions\n",
    "df_gtu_scope = df_gtu_new[df_gtu_new['headway_time'] > 0]\n",
    "# focus on smaller time headways, a time headway of 100 seconds is not interesting\n",
    "df_gtu_scope = df_gtu_scope[df_gtu_scope['headway_time'] < 2]"
   ]
  },
  {
   "cell_type": "code",
   "execution_count": 11,
   "id": "c4e1660a-3d41-4c9a-a958-586a49f5fcbc",
   "metadata": {},
   "outputs": [
    {
     "data": {
      "image/png": "[encoded data removed]",
      "text/plain": [
       "<Figure size 1000x600 with 1 Axes>"
      ]
     },
     "metadata": {},
     "output_type": "display_data"
    }
   ],
   "source": [
    "def sensitivity_analysis_line_plot(df, sens_param, dependent_param):\n",
    "    # remove NaN and inf values in time headway since not all data points have a leading vehicle\n",
    "    df = df.replace([np.inf, -np.inf], np.nan)\n",
    "    df = df.dropna(subset=[dependent_param])\n",
    "    \n",
    "    # group by the sensitivity parameter and calculate mean, min, and max of the dependent parameter\n",
    "    stats_by_sens_param = df.groupby(sens_param)[dependent_param].agg(['mean', 'min', 'max']).reset_index()\n",
    "    stats_by_sens_param.rename(columns={'mean': f'mean_{dependent_param}', 'min': f'min_{dependent_param}', 'max': f'max_{dependent_param}'}, inplace=True)\n",
    "    \n",
    "    # sort values by the sensitivity parameter to ensure correct plotting order\n",
    "    stats_by_sens_param = stats_by_sens_param.sort_values(by=sens_param)\n",
    "    \n",
    "    # plot the mean, min, and max values against the sensitivity analysis parameter\n",
    "    plt.figure(figsize=(10, 6))\n",
    "    plt.plot(stats_by_sens_param[sens_param], stats_by_sens_param[f'mean_{dependent_param}'], marker='o', color='blue', label='Mean')\n",
    "    # plt.fill_between(stats_by_sens_param[sens_param], \n",
    "    #                  stats_by_sens_param[f'min_{dependent_param}'], \n",
    "    #                  stats_by_sens_param[f'max_{dependent_param}'], \n",
    "    #                  color='lightblue', alpha=0.3, label='Range (Min to Max)')\n",
    "\n",
    "    # display data point values\n",
    "    for i, row in stats_by_sens_param.iterrows():\n",
    "        plt.text(row[sens_param], row[f'mean_{dependent_param}'], f'({row[sens_param]:.2f}, {row[f\"mean_{dependent_param}\"]:.2f})', fontsize=9, ha='right')\n",
    "    \n",
    "    # labels and title\n",
    "    plt.xlabel(f'Sensitivity parameter ({sens_param})')\n",
    "    plt.ylabel(f'{dependent_param.replace(\"_\", \" \")} [s]')\n",
    "    plt.title(f'Influence of {sens_param.replace(\"_\", \" \")} on {dependent_param.replace(\"_\", \" \")}')\n",
    "    plt.grid(True)\n",
    "    plt.legend()\n",
    "    plt.show()\n",
    "\n",
    "# show influence of t_max on headway_time\n",
    "sensitivity_analysis_line_plot(df_gtu_scope, 't_max', 'headway_time')"
   ]
  },
  {
   "cell_type": "markdown",
   "id": "bacb150f-98d8-471e-a3f2-5ffafe49cdbe",
   "metadata": {},
   "source": [
    "### Conclusion\n",
    "The plot for mean headway times between 0 and 2 seconds shows that a higher Tmax indeed "
   ]
  }
 ],
 "metadata": {
  "kernelspec": {
   "display_name": "Python 3 (ipykernel)",
   "language": "python",
   "name": "python3"
  },
  "language_info": {
   "codemirror_mode": {
    "name": "ipython",
    "version": 3
   },
   "file_extension": ".py",
   "mimetype": "text/x-python",
   "name": "python",
   "nbconvert_exporter": "python",
   "pygments_lexer": "ipython3",
   "version": "3.11.4"
  }
 },
 "nbformat": 4,
 "nbformat_minor": 5
}
