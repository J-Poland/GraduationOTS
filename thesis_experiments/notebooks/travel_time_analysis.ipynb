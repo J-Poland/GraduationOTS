{
 "cells": [
  {
   "cell_type": "markdown",
   "id": "6aba1ceb-2baa-4750-b55e-aa13afdff9e8",
   "metadata": {},
   "source": [
    "# Transitioning to autonomous driving: <br>Mixed vehicle autonomy levels on freeways\n",
    "### Notebook to analyse simulation warm-up time.\n",
    "\n",
    "Jesse Poland<br>\n",
    "TU Delft<br>\n",
    "Date: 02-10-2024<br>"
   ]
  },
  {
   "cell_type": "markdown",
   "id": "a2d69754-596b-4936-990c-8e613e20bd98",
   "metadata": {},
   "source": [
    "### 0. Python packages and loading data files\n",
    "\n",
    "First, Python packages are imported to provide specific functionalities within the notebook. Then, the file paths are set to retrieve stored simulation data for all experiment runs and seeds. The simulation data is loaded into Pandas DataFrames, making the data ready for analysis."
   ]
  },
  {
   "cell_type": "code",
   "execution_count": 2,
   "id": "abd34b02-9481-4766-8cc8-a5052954e448",
   "metadata": {},
   "outputs": [],
   "source": [
    "import os\n",
    "import pandas as pd\n",
    "import numpy as np\n",
    "import matplotlib.pyplot as plt\n",
    "from scipy.stats import mannwhitneyu\n",
    "from IPython.display import display\n",
    "import zipfile\n",
    "\n",
    "import warnings\n",
    "warnings.simplefilter(action='ignore', category=FutureWarning)"
   ]
  },
  {
   "cell_type": "code",
   "execution_count": 3,
   "id": "30fe414a-0ebf-4181-817a-9b79a0a8fd27",
   "metadata": {},
   "outputs": [],
   "source": [
    "# simulation output folder\n",
    "experiment_name = 'full_level_runs_4'\n",
    "\n",
    "# load Java simulation data\n",
    "experiment_folder = fr'C:\\Users\\jesse\\Documents\\EPA_TUDelft\\MasterThesis\\thesis_experiments\\SIMLAB-BOTLEK\\{experiment_name}'\n",
    "\n",
    "# available files\n",
    "input_values = 'inputValues.csv'\n",
    "intermediate_output = 'intermediateOutputData.csv'\n",
    "single_output = 'singleOutputData.csv'\n",
    "sequence_output = 'sequenceOutputData.csv'\n",
    "lane_change_output = 'laneChangeOutputData.csv'"
   ]
  },
  {
   "cell_type": "code",
   "execution_count": 4,
   "id": "8d7908c2-4f8c-4dfe-ab7e-262994321d4c",
   "metadata": {},
   "outputs": [],
   "source": [
    "# function to get a list of all file/folder names within a folder\n",
    "def get_file_names(path):\n",
    "    return os.listdir(path)\n",
    "\n",
    "# load available seed folders\n",
    "seed_folders = get_file_names(experiment_folder)"
   ]
  },
  {
   "cell_type": "code",
   "execution_count": 5,
   "id": "87c3612e-42ff-4032-b2ab-a92720bd4818",
   "metadata": {},
   "outputs": [],
   "source": [
    "# function to retrieve any data within the project folder as dataframe\n",
    "def load_dataframe(columns_of_interest, folder, file, input_file=None):\n",
    "    # create empty DataFrame\n",
    "    df = pd.DataFrame()\n",
    "    \n",
    "    # loop through all seed folders from this experiment\n",
    "    for seed_name in get_file_names(folder):\n",
    "        # get all runs within this experiment\n",
    "        run_folders = get_file_names(os.path.join(folder, seed_name))\n",
    "\n",
    "        run_i = 0\n",
    "        # go through all runs\n",
    "        for run_folder in run_folders:\n",
    "            run_number = int(run_folder.split('_')[1])\n",
    "            data_folder = os.path.join(folder, seed_name, run_folder)\n",
    "\n",
    "            if run_i > 1:\n",
    "                break\n",
    "            \n",
    "            run_i += 1\n",
    "\n",
    "            # open zip file (remove .csv form file name)\n",
    "            # try:\n",
    "            with zipfile.ZipFile(os.path.join(data_folder, fr'{file[:-4]}.zip'), 'r') as zip_ref:\n",
    "                # read sequence csv\n",
    "                with zip_ref.open(file) as data_file:\n",
    "                    df_run = pd.read_csv(data_file)\n",
    "                    df_interest = df_run[columns_of_interest].copy()\n",
    "                    df_interest['run'] = run_number\n",
    "            # add input values to the dataframe if the input file is specified\n",
    "            if input_file is not None:\n",
    "                # open input zip file\n",
    "                with zipfile.ZipFile(os.path.join(data_folder, fr'{input_file[:-4]}.zip'), 'r') as zip_ref:\n",
    "                    # read input csv\n",
    "                    with zip_ref.open(input_file) as input_data_file:\n",
    "                        df_input = pd.read_csv(input_data_file)\n",
    "                # broadcast input data to all rows in df_interest\n",
    "                for col in df_input.columns:\n",
    "                    df_interest[col] = df_input[col].iloc[0]\n",
    "\n",
    "            # add this data to the main DataFrame\n",
    "            df = pd.concat([df, df_interest])\n",
    "            # except:\n",
    "            #     print(f'An error occured when trying to read data from: {data_folder}. This folder may contain a BadZipFile.')\n",
    "    \n",
    "    # return resulting DataFrame\n",
    "    df.reset_index(drop=True, inplace=True)\n",
    "    return df\n",
    "    "
   ]
  },
  {
   "cell_type": "markdown",
   "id": "16721b04-0261-47cb-8d31-0f3ff0b2fab7",
   "metadata": {},
   "source": [
    "### 1. Travel times\n",
    "The travel time is used to determine the sample time. A traffic simulation should sample at least 3 times the maximum travel time."
   ]
  },
  {
   "cell_type": "code",
   "execution_count": null,
   "id": "af0fe5ba-0c29-4852-9e43-1100e3c3a31b",
   "metadata": {},
   "outputs": [],
   "source": [
    "# function to show boxplot stats\n",
    "def show_boxplot_stats(df, column):\n",
    "    # show statistics\n",
    "    quartiles = df[column].quantile([0.25, 0.5, 0.75])\n",
    "    q1 = quartiles[0.25]\n",
    "    median = quartiles[0.5]\n",
    "    q3 = quartiles[0.75]\n",
    "    iqr = q3 - q1  # interquartile range\n",
    "    lower_whisker = df[column][df[column] >= (q1 - 1.5 * iqr)].min()\n",
    "    upper_whisker = df[column][df[column] <= (q3 + 1.5 * iqr)].max()\n",
    "    mean = df[column].mean()\n",
    "    \n",
    "    # show the statistics\n",
    "    boxplot_stats = {\n",
    "        'Lower Whisker': lower_whisker,\n",
    "        'Q1 (25th percentile)': q1,\n",
    "        'Median (50th percentile)': median,\n",
    "        'Q3 (75th percentile)': q3,\n",
    "        'Upper Whisker': upper_whisker,\n",
    "        'Mean': mean\n",
    "    }\n",
    "    for key, value in boxplot_stats.items():\n",
    "        print(f'{key}: {value}')\n",
    "\n",
    "# get travel times and remove NaN values which were created because of intermediate values for mean FD data\n",
    "df_travel_time = load_dataframe(['travel_time'], experiment_folder, intermediate_output)\n",
    "df_travel_time = df_travel_time.dropna()\n",
    "\n",
    "# create figure\n",
    "fig, ax = plt.subplots()\n",
    "# create boxplot\n",
    "ax.boxplot(df_travel_time['travel_time'])\n",
    "# set title and labels\n",
    "ax.set_title('Boxplot of travel_times')\n",
    "ax.set_xlabel('Tracel_time')\n",
    "ax.set_ylabel('seconds')\n",
    "\n",
    "# show plot\n",
    "plt.show()\n",
    "\n",
    "# show stats\n",
    "show_boxplot_stats(df_travel_time, 'mean_travel_time')"
   ]
  }
 ],
 "metadata": {
  "kernelspec": {
   "display_name": "Python 3 (ipykernel)",
   "language": "python",
   "name": "python3"
  },
  "language_info": {
   "codemirror_mode": {
    "name": "ipython",
    "version": 3
   },
   "file_extension": ".py",
   "mimetype": "text/x-python",
   "name": "python",
   "nbconvert_exporter": "python",
   "pygments_lexer": "ipython3",
   "version": "3.10.14"
  }
 },
 "nbformat": 4,
 "nbformat_minor": 5
}
